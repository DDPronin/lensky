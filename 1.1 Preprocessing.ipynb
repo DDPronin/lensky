{
 "cells": [
  {
   "cell_type": "markdown",
   "id": "e3e63c5c",
   "metadata": {},
   "source": [
    "**Предобработка текстов корпуса**"
   ]
  },
  {
   "cell_type": "markdown",
   "id": "3b70a19e",
   "metadata": {},
   "source": [
    "Импорт Lensky"
   ]
  },
  {
   "cell_type": "code",
   "execution_count": 10,
   "id": "223a4b2d",
   "metadata": {},
   "outputs": [],
   "source": [
    "from Lensky.lensky import *"
   ]
  },
  {
   "cell_type": "markdown",
   "id": "a16c71d1",
   "metadata": {},
   "source": [
    "Загрузка корпуса по адресу"
   ]
  },
  {
   "cell_type": "code",
   "execution_count": 11,
   "id": "49ec43ff",
   "metadata": {},
   "outputs": [
    {
     "name": "stdout",
     "output_type": "stream",
     "text": [
      "Loading...\n"
     ]
    },
    {
     "name": "stderr",
     "output_type": "stream",
     "text": [
      "100%|████████████████████████████████████████████████████████████████████████████████| 180/180 [00:05<00:00, 30.30it/s]"
     ]
    },
    {
     "name": "stdout",
     "output_type": "stream",
     "text": [
      "Done!\n"
     ]
    },
    {
     "name": "stderr",
     "output_type": "stream",
     "text": [
      "\n"
     ]
    }
   ],
   "source": [
    "corpus = Corpus('data/corpus_ru')"
   ]
  },
  {
   "cell_type": "code",
   "execution_count": 3,
   "id": "c94d2912",
   "metadata": {},
   "outputs": [
    {
     "name": "stdout",
     "output_type": "stream",
     "text": [
      "Авторов в корпусе: 180\n",
      "Книг в корпусе: 755\n"
     ]
    }
   ],
   "source": [
    "print('Авторов в корпусе:', len(corpus.get_keys()))\n",
    "print('Книг в корпусе:', len(corpus.get_subkeys()))"
   ]
  },
  {
   "cell_type": "markdown",
   "id": "f6100367",
   "metadata": {},
   "source": [
    "Токенезация с заменой данных (загруженный изначально корпус будет заменен на токенезированный корпус)"
   ]
  },
  {
   "cell_type": "code",
   "execution_count": 4,
   "id": "98dd8d2b",
   "metadata": {},
   "outputs": [
    {
     "name": "stdout",
     "output_type": "stream",
     "text": [
      "Tokenizing...\n"
     ]
    },
    {
     "name": "stderr",
     "output_type": "stream",
     "text": [
      "100%|████████████████████████████████████████████████████████████████████████████████| 180/180 [23:52<00:00,  7.96s/it]"
     ]
    },
    {
     "name": "stdout",
     "output_type": "stream",
     "text": [
      "Done!\n",
      "Wall time: 23min 52s\n"
     ]
    },
    {
     "name": "stderr",
     "output_type": "stream",
     "text": [
      "\n"
     ]
    }
   ],
   "source": [
    "%%time\n",
    "corpus.tokenize(replace=True)"
   ]
  },
  {
   "cell_type": "markdown",
   "id": "7255722a",
   "metadata": {},
   "source": [
    "Сохранение результатов"
   ]
  },
  {
   "cell_type": "code",
   "execution_count": 5,
   "id": "9155d4e5",
   "metadata": {},
   "outputs": [
    {
     "name": "stdout",
     "output_type": "stream",
     "text": [
      "Saving...\n"
     ]
    },
    {
     "name": "stderr",
     "output_type": "stream",
     "text": [
      "100%|████████████████████████████████████████████████████████████████████████████████| 180/180 [00:16<00:00, 10.87it/s]"
     ]
    },
    {
     "name": "stdout",
     "output_type": "stream",
     "text": [
      "Done!\n"
     ]
    },
    {
     "name": "stderr",
     "output_type": "stream",
     "text": [
      "\n"
     ]
    }
   ],
   "source": [
    "corpus.save('data/corpus_ru_tokenized')"
   ]
  },
  {
   "cell_type": "markdown",
   "id": "a1eeddc0",
   "metadata": {},
   "source": [
    "Нормализация с заменой данных (загруженный изначально корпус будет заменен на нормализованный корпус)"
   ]
  },
  {
   "cell_type": "code",
   "execution_count": 6,
   "id": "f6d84b14",
   "metadata": {},
   "outputs": [
    {
     "name": "stdout",
     "output_type": "stream",
     "text": [
      "Normalizing...\n"
     ]
    },
    {
     "name": "stderr",
     "output_type": "stream",
     "text": [
      "100%|████████████████████████████████████████████████████████████████████████████████| 180/180 [31:46<00:00, 10.59s/it]"
     ]
    },
    {
     "name": "stdout",
     "output_type": "stream",
     "text": [
      "Done!\n",
      "Wall time: 31min 47s\n"
     ]
    },
    {
     "name": "stderr",
     "output_type": "stream",
     "text": [
      "\n"
     ]
    }
   ],
   "source": [
    "%%time\n",
    "from nltk.corpus import stopwords\n",
    "\n",
    "stop_words = LENSKY_STOP_WORDS + stopwords.words('russian')\n",
    "corpus.normalize(stop_words=stop_words, replace=True)"
   ]
  },
  {
   "cell_type": "markdown",
   "id": "c41061ad",
   "metadata": {},
   "source": [
    "Сохранение результатов"
   ]
  },
  {
   "cell_type": "code",
   "execution_count": 7,
   "id": "1e9ed90f",
   "metadata": {},
   "outputs": [
    {
     "name": "stdout",
     "output_type": "stream",
     "text": [
      "Saving...\n"
     ]
    },
    {
     "name": "stderr",
     "output_type": "stream",
     "text": [
      "100%|████████████████████████████████████████████████████████████████████████████████| 180/180 [00:12<00:00, 14.75it/s]"
     ]
    },
    {
     "name": "stdout",
     "output_type": "stream",
     "text": [
      "Done!\n"
     ]
    },
    {
     "name": "stderr",
     "output_type": "stream",
     "text": [
      "\n"
     ]
    }
   ],
   "source": [
    "corpus.save('data/corpus_ru_normalized')"
   ]
  },
  {
   "cell_type": "markdown",
   "id": "426c25a5",
   "metadata": {},
   "source": [
    "Выброс малопопулярных слов с заменой данных (загруженный изначально корпус будет заменен на корпус с выброшенными словами)"
   ]
  },
  {
   "cell_type": "code",
   "execution_count": 8,
   "id": "a954a239",
   "metadata": {},
   "outputs": [
    {
     "name": "stdout",
     "output_type": "stream",
     "text": [
      "Processing...\n"
     ]
    },
    {
     "name": "stderr",
     "output_type": "stream",
     "text": [
      "100%|████████████████████████████████████████████████████████████████████████████████| 180/180 [00:06<00:00, 29.27it/s]"
     ]
    },
    {
     "name": "stdout",
     "output_type": "stream",
     "text": [
      "Done!\n",
      "Wall time: 6.15 s\n"
     ]
    },
    {
     "name": "stderr",
     "output_type": "stream",
     "text": [
      "\n"
     ]
    }
   ],
   "source": [
    "%%time\n",
    "corpus.low_pop_drop(lim=0.001, replace=True)"
   ]
  },
  {
   "cell_type": "markdown",
   "id": "8bd7f039",
   "metadata": {},
   "source": [
    "Сохранение результатов"
   ]
  },
  {
   "cell_type": "code",
   "execution_count": 9,
   "id": "9b30747f",
   "metadata": {},
   "outputs": [
    {
     "name": "stdout",
     "output_type": "stream",
     "text": [
      "Saving...\n"
     ]
    },
    {
     "name": "stderr",
     "output_type": "stream",
     "text": [
      "100%|████████████████████████████████████████████████████████████████████████████████| 180/180 [00:03<00:00, 53.32it/s]"
     ]
    },
    {
     "name": "stdout",
     "output_type": "stream",
     "text": [
      "Done!\n"
     ]
    },
    {
     "name": "stderr",
     "output_type": "stream",
     "text": [
      "\n"
     ]
    }
   ],
   "source": [
    "corpus.save('data/corpus_ru_normalized_dropped')"
   ]
  }
 ],
 "metadata": {
  "kernelspec": {
   "display_name": "Python 3 (ipykernel)",
   "language": "python",
   "name": "python3"
  },
  "language_info": {
   "codemirror_mode": {
    "name": "ipython",
    "version": 3
   },
   "file_extension": ".py",
   "mimetype": "text/x-python",
   "name": "python",
   "nbconvert_exporter": "python",
   "pygments_lexer": "ipython3",
   "version": "3.9.13"
  }
 },
 "nbformat": 4,
 "nbformat_minor": 5
}
