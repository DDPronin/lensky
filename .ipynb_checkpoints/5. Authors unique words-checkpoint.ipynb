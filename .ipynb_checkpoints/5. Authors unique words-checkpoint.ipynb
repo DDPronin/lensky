{
 "cells": [
  {
   "cell_type": "markdown",
   "id": "2461c098",
   "metadata": {},
   "source": [
    "Загрузим функции Lensky"
   ]
  },
  {
   "cell_type": "code",
   "execution_count": 81,
   "id": "ac7c2188",
   "metadata": {},
   "outputs": [],
   "source": [
    "from Lensky.lensky import *"
   ]
  },
  {
   "cell_type": "markdown",
   "id": "f2d690ce",
   "metadata": {},
   "source": [
    "Загрузим нормализованный корпус"
   ]
  },
  {
   "cell_type": "code",
   "execution_count": 82,
   "id": "e352aed7",
   "metadata": {},
   "outputs": [
    {
     "name": "stdout",
     "output_type": "stream",
     "text": [
      "Loading...\n"
     ]
    },
    {
     "name": "stderr",
     "output_type": "stream",
     "text": [
      "100%|████████████████████████████████████████████████████████████████████████████████| 180/180 [00:02<00:00, 60.97it/s]\n"
     ]
    },
    {
     "name": "stdout",
     "output_type": "stream",
     "text": [
      "Done!\n"
     ]
    }
   ],
   "source": [
    "corp = Corpus('data\\corpus_ru_normalized')"
   ]
  },
  {
   "cell_type": "markdown",
   "id": "2e6a0ed7",
   "metadata": {},
   "source": [
    "Преобразуем его элементы в списки"
   ]
  },
  {
   "cell_type": "code",
   "execution_count": 83,
   "id": "0f6c9e07",
   "metadata": {},
   "outputs": [],
   "source": [
    "def to_list(book):\n",
    "    return book.split()"
   ]
  },
  {
   "cell_type": "code",
   "execution_count": 84,
   "id": "4476d6d3",
   "metadata": {},
   "outputs": [
    {
     "name": "stdout",
     "output_type": "stream",
     "text": [
      "Processing...\n"
     ]
    },
    {
     "name": "stderr",
     "output_type": "stream",
     "text": [
      "100%|███████████████████████████████████████████████████████████████████████████████| 180/180 [00:01<00:00, 102.69it/s]"
     ]
    },
    {
     "name": "stdout",
     "output_type": "stream",
     "text": [
      "Done!\n"
     ]
    },
    {
     "name": "stderr",
     "output_type": "stream",
     "text": [
      "\n"
     ]
    }
   ],
   "source": [
    "corp.apply(to_list, replace=True)"
   ]
  },
  {
   "cell_type": "markdown",
   "id": "a99f1738",
   "metadata": {},
   "source": [
    "Векторизуем корпус с помощью CountVectorizer"
   ]
  },
  {
   "cell_type": "code",
   "execution_count": 85,
   "id": "5b5cd33a",
   "metadata": {},
   "outputs": [],
   "source": [
    "from sklearn.feature_extraction.text import CountVectorizer\n",
    "cv = CountVectorizer(ngram_range=(1, 1))"
   ]
  },
  {
   "cell_type": "code",
   "execution_count": 86,
   "id": "91870937",
   "metadata": {},
   "outputs": [
    {
     "name": "stdout",
     "output_type": "stream",
     "text": [
      "Vectorizer fitting...\n",
      "Done!\n",
      "Vectorizing...\n"
     ]
    },
    {
     "name": "stderr",
     "output_type": "stream",
     "text": [
      "100%|████████████████████████████████████████████████████████████████████████████████| 180/180 [02:29<00:00,  1.20it/s]\n"
     ]
    },
    {
     "name": "stdout",
     "output_type": "stream",
     "text": [
      "Done!\n"
     ]
    }
   ],
   "source": [
    "author_cv = corp.vectorize(cv)"
   ]
  },
  {
   "cell_type": "markdown",
   "id": "9b7e4a08",
   "metadata": {},
   "source": [
    "Создадим новый корпус с разбиением по векам"
   ]
  },
  {
   "cell_type": "code",
   "execution_count": 87,
   "id": "af3d0646",
   "metadata": {},
   "outputs": [],
   "source": [
    "def cent(year):\n",
    "    if year < 1801:\n",
    "        return 18\n",
    "    if year >= 1801 and year < 1901:\n",
    "        return 19\n",
    "    if year >= 1901 and year < 2001:\n",
    "        return 20\n",
    "    if year >= 2001:\n",
    "        return 21"
   ]
  },
  {
   "cell_type": "code",
   "execution_count": 88,
   "id": "3d53385e",
   "metadata": {},
   "outputs": [],
   "source": [
    "cent_cv = Corpus(corpus={18 : {}, 19 : {}, 20 : {}, 21 : {}})\n",
    "for key in corp.keys():\n",
    "    for subkey in author_cv[key].keys():\n",
    "        year = int(subkey.split('.')[-1])\n",
    "        cent_cv[cent(year)][subkey] = author_cv[key][subkey]"
   ]
  },
  {
   "cell_type": "markdown",
   "id": "5f00f360",
   "metadata": {},
   "source": [
    "Найдем среднее между произведениями 19 века"
   ]
  },
  {
   "cell_type": "code",
   "execution_count": 89,
   "id": "bee3acb0",
   "metadata": {},
   "outputs": [],
   "source": [
    "vec19 = vmean(list(cent_cv[19].values()))"
   ]
  },
  {
   "cell_type": "code",
   "execution_count": 90,
   "id": "c64dee88",
   "metadata": {},
   "outputs": [
    {
     "data": {
      "text/plain": [
       "array(['свой', 'сказать', 'говорить', 'то', 'который', 'человек', 'знать',\n",
       "       'один', 'рука', 'мой', 'мочь', 'дело', 'время', 'глаз', 'стать',\n",
       "       'хотеть', 'ты', 'день', 'слово', 'очень'], dtype=object)"
      ]
     },
     "execution_count": 90,
     "metadata": {},
     "output_type": "execute_result"
    }
   ],
   "source": [
    "vec19.get_principal_words(20)"
   ]
  },
  {
   "cell_type": "markdown",
   "id": "87627784",
   "metadata": {},
   "source": [
    "Найдем среднее между произведениями Л. Н. Толстого"
   ]
  },
  {
   "cell_type": "code",
   "execution_count": 96,
   "id": "a85d97f9",
   "metadata": {},
   "outputs": [],
   "source": [
    "vectol = vmean(list(author_cv['ТолстойЛ'].values()))"
   ]
  },
  {
   "cell_type": "code",
   "execution_count": 97,
   "id": "ce335ac6",
   "metadata": {},
   "outputs": [
    {
     "data": {
      "text/plain": [
       "array(['сказать', 'свой', 'который', 'говорить', 'человек', 'знать',\n",
       "       'мочь', 'один', 'рука', 'лицо', 'князь', 'то', 'хотеть', 'глаз',\n",
       "       'время', 'думать', 'тот', 'видеть', 'стать', 'дело'], dtype=object)"
      ]
     },
     "execution_count": 97,
     "metadata": {},
     "output_type": "execute_result"
    }
   ],
   "source": [
    "vectol.get_principal_words(20)"
   ]
  },
  {
   "cell_type": "markdown",
   "id": "0353db8b",
   "metadata": {},
   "source": [
    "Вычитем из Толстого 19 век. ЭТо позволит рассмотреть слова, частотность которых в произведениях Толстого выше, чем в среднем в произведениях его эпохи"
   ]
  },
  {
   "cell_type": "code",
   "execution_count": 98,
   "id": "32aad100",
   "metadata": {},
   "outputs": [],
   "source": [
    "dif = vdif(vectol, vec19)"
   ]
  },
  {
   "cell_type": "code",
   "execution_count": 103,
   "id": "15d1e844",
   "metadata": {
    "scrolled": false
   },
   "outputs": [
    {
     "data": {
      "text/plain": [
       "array(['сказать', 'который', 'говорить', 'пьер', 'свой', 'человек',\n",
       "       'князь', 'лицо', 'мочь', 'левин', 'нехлюдов', 'знать', 'тот',\n",
       "       'думать', 'один', 'наташа', 'андрей', 'хотеть', 'видеть', 'рука',\n",
       "       'чувствовать', 'другой', 'сделать', 'вронский', 'глаз', 'делать',\n",
       "       'княжна', 'ростов', 'анна', 'жизнь', 'стать', 'время', 'чувство',\n",
       "       'офицер', 'смотреть', 'казаться', 'кить', 'государь', 'лошадь',\n",
       "       'голос', 'выражение', 'солдат', 'александрович', 'граф',\n",
       "       'улыбаться', 'увидать', 'выйти', 'de', 'марья', 'очень', 'должный',\n",
       "       'улыбка', 'подойти', 'ежели', 'самый', 'положение', 'голова',\n",
       "       'стоять', 'любить', 'москва', 'француз', 'наполеон', 'понять',\n",
       "       'понимать', 'графиня', 'аркадьич', 'кутузов', 'ехать', 'приехать',\n",
       "       'очевидный', 'мысль', 'иметь', 'разговор', 'вопрос', 'несмотря',\n",
       "       'дверь', 'войти', 'глядеть', 'пойти', 'дело', 'отношение', 'новый',\n",
       "       'ребёнок', 'движение', 'желать', 'этот', 'степан', 'отвечать',\n",
       "       'прежде', 'идти', 'друг', 'войско', 'денисов', 'нынче', 'соня',\n",
       "       'армия', 'старый', 'нога', 'жена', 'продолжать', 'алексей',\n",
       "       'сидеть', 'сражение', 'взгляд', 'остановиться', 'любовь', 'нужно',\n",
       "       'взять', 'комната', 'серебряный', 'поехать', 'сторона',\n",
       "       'стараться', 'vous', 'первый', 'царь', 'вместе', 'дорога', 'шаг',\n",
       "       'маслов', 'оленина', 'весь', 'николай', 'хороший', 'звук', 'слово',\n",
       "       'подумать', 'сила', 'тотчас', 'особенно', 'испытывать',\n",
       "       'французский', 'весёлый', 'обратиться', 'володя', 'больший',\n",
       "       'место', 'женщина', 'слушать', 'la', 'русский', 'казак', 'дать',\n",
       "       'le', 'народ', 'est', 'долли', 'спросить', 'стол', 'генерал',\n",
       "       'минута', 'совершенно', 'себя', 'мужик', 'муж', 'брат',\n",
       "       'вспомнить', 'et', 'высокий', 'ожидать', 'особенность', 'вперёд',\n",
       "       'лукашка', 'из', 'общий', 'считать', 'посмотреть', 'почувствовать',\n",
       "       'que', 'встать', 'это', 'кроме', 'адъютант', 'обращаться', 'он',\n",
       "       'война', 'белый', 'маленький', 'прибавить', 'большой', 'цель',\n",
       "       'причина', 'вернуться', 'je', 'послышаться', 'узнать',\n",
       "       'оглянуться', 'рассказывать', 'петя', 'назад', 'найти', 'иоанн',\n",
       "       'il', 'пройти', 'счастливый', 'весело', 'состоять', 'показаться',\n",
       "       'событие', 'слышать'], dtype=object)"
      ]
     },
     "execution_count": 103,
     "metadata": {},
     "output_type": "execute_result"
    }
   ],
   "source": [
    "dif.get_principal_words(200)"
   ]
  },
  {
   "cell_type": "markdown",
   "id": "a5c36879",
   "metadata": {},
   "source": [
    "Теоретически данный метод может быть использован для изучения стилей авторов"
   ]
  }
 ],
 "metadata": {
  "kernelspec": {
   "display_name": "Python 3 (ipykernel)",
   "language": "python",
   "name": "python3"
  },
  "language_info": {
   "codemirror_mode": {
    "name": "ipython",
    "version": 3
   },
   "file_extension": ".py",
   "mimetype": "text/x-python",
   "name": "python",
   "nbconvert_exporter": "python",
   "pygments_lexer": "ipython3",
   "version": "3.9.13"
  }
 },
 "nbformat": 4,
 "nbformat_minor": 5
}
