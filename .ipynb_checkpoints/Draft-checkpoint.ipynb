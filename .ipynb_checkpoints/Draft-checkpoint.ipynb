{
 "cells": [
  {
   "cell_type": "code",
   "execution_count": null,
   "id": "d462df33",
   "metadata": {},
   "outputs": [],
   "source": [
    "import pandas as pd\n",
    "import numpy as np\n",
    "import codecs\n",
    "from matplotlib import pyplot as plt\n",
    "\n",
    "import os\n",
    "import tqdm"
   ]
  },
  {
   "cell_type": "code",
   "execution_count": null,
   "id": "b675d849",
   "metadata": {},
   "outputs": [],
   "source": [
    "DATA_PATH = 'D:\\\\DDPronin\\\\PyCharm\\\\RU Classic Literature graphs\\\\data\\\\corpus_ru_normalized'\n",
    "DATA = os.listdir(DATA_PATH)\n",
    "DATA"
   ]
  },
  {
   "cell_type": "code",
   "execution_count": null,
   "id": "86cadf2d",
   "metadata": {},
   "outputs": [],
   "source": [
    "AUTHORS = sorted(list(set([element.replace('_','.').split('.')[0].lower() for element in DATA])))\n",
    "print('Авторов: ', len(AUTHORS))\n",
    "print('Книг: ', len(DATA))"
   ]
  },
  {
   "cell_type": "code",
   "execution_count": null,
   "id": "0af6960d",
   "metadata": {},
   "outputs": [],
   "source": [
    "#Функция для считывания книг в словарь\n",
    "def to_dict(DATA_PATH, BOOKS):\n",
    "    out_dict = {}\n",
    "    for name in BOOKS:\n",
    "        with open(f'{DATA_PATH}\\\\{name}', encoding=\"utf-8\") as f:\n",
    "            out_dict[name[:-4]] = ' '.join(f.read().split())\n",
    "    return out_dict"
   ]
  },
  {
   "cell_type": "code",
   "execution_count": null,
   "id": "93b3ed49",
   "metadata": {},
   "outputs": [],
   "source": [
    "%%time\n",
    "corpus = {}\n",
    "data_low = [data.lower() for data in DATA]\n",
    "for author in tqdm.tqdm(AUTHORS):\n",
    "    author_books = []\n",
    "    for i in range(len(data_low)):\n",
    "        if author in data_low[i]:\n",
    "            author_books.append(DATA[i])\n",
    "    corpus[author] = to_dict(DATA_PATH, author_books)"
   ]
  },
  {
   "cell_type": "code",
   "execution_count": null,
   "id": "4d6f45ab",
   "metadata": {},
   "outputs": [],
   "source": [
    "i = 0\n",
    "j = 0\n",
    "#key = keys[i]\n",
    "key = 'карамзин'\n",
    "keys = list(corpus.keys())\n",
    "subkeys = list(corpus[key].keys())\n",
    "print(subkeys[j])\n",
    "pd.Series(corpus[key][subkeys[j]].split()).value_counts()[:40]"
   ]
  },
  {
   "cell_type": "code",
   "execution_count": null,
   "id": "c324072d",
   "metadata": {},
   "outputs": [],
   "source": [
    "plt.grid()\n",
    "key1 = 'толстойл'\n",
    "key2 = 'солженицын'\n",
    "i1 = 7\n",
    "i2 = 3\n",
    "subkeys1 = list(corpus[key1].keys())\n",
    "subkeys2 = list(corpus[key2].keys())\n",
    "print(f'{subkeys1[i1]} vs {subkeys2[i2]}')\n",
    "plt.stairs(list(pd.Series(corpus[key1][subkeys1[i1]].split()).value_counts(normalize=True)[:100]), label=subkeys1[i1])\n",
    "plt.stairs(list(pd.Series(corpus[key2][subkeys2[i2]].split()).value_counts(normalize=True)[:100]), label=subkeys2[i2])\n",
    "plt.legend()"
   ]
  },
  {
   "cell_type": "code",
   "execution_count": null,
   "id": "c549521a",
   "metadata": {},
   "outputs": [],
   "source": [
    "print(f'{subkeys1[i1]} : {len(corpus[key1][subkeys1[i1]].split())}')\n",
    "print(f'{subkeys2[i2]} : {len(corpus[key2][subkeys2[i2]].split())}')"
   ]
  },
  {
   "cell_type": "code",
   "execution_count": null,
   "id": "b8cb0241",
   "metadata": {},
   "outputs": [],
   "source": [
    "pd.Series(corpus[key1][subkeys1[i1]].split()).value_counts()[:40]"
   ]
  },
  {
   "cell_type": "code",
   "execution_count": null,
   "id": "d080c55d",
   "metadata": {},
   "outputs": [],
   "source": [
    "pd.Series(corpus[key2][subkeys2[i2]].split()).value_counts()[:40]"
   ]
  },
  {
   "cell_type": "code",
   "execution_count": null,
   "id": "a69e81f9",
   "metadata": {
    "scrolled": false
   },
   "outputs": [],
   "source": [
    "a1 = list(pd.Series(corpus[key1][subkeys1[j]].split()).value_counts(normalize=True)[:10000])\n",
    "a2 = list(pd.Series(corpus[key2][subkeys2[j]].split()).value_counts(normalize=True)[:10000])\n",
    "plt.stairs(np.cumsum(a1), label=subkeys1[i1])\n",
    "plt.stairs(np.cumsum(a2), label=subkeys2[i2])\n",
    "plt.grid()\n",
    "plt.legend()"
   ]
  },
  {
   "cell_type": "code",
   "execution_count": null,
   "id": "8dbbf6c6",
   "metadata": {},
   "outputs": [],
   "source": [
    "test = pd.DataFrame({'X' : list(range(1, len(np.cumsum(a1))+1)), 'Y' : np.cumsum(a1)})\n",
    "test['logX'] = test['X'].apply(np.log)\n",
    "test"
   ]
  },
  {
   "cell_type": "code",
   "execution_count": null,
   "id": "b94281cf",
   "metadata": {},
   "outputs": [],
   "source": [
    "for a in range(2, 10):\n",
    "    test[f'root{a}'] = test['X'].to_numpy()**(1/a)"
   ]
  },
  {
   "cell_type": "code",
   "execution_count": null,
   "id": "b690a9ed",
   "metadata": {},
   "outputs": [],
   "source": [
    "test"
   ]
  },
  {
   "cell_type": "code",
   "execution_count": null,
   "id": "f966507d",
   "metadata": {},
   "outputs": [],
   "source": [
    "from sklearn.linear_model import LinearRegression\n",
    "\n",
    "for i in range(2, 10):\n",
    "    reg = LinearRegression().fit(test[f'root{i}'].to_numpy().reshape(-1, 1), test['Y'])\n",
    "    res = reg.coef_* (test['X'].to_numpy())**(1/i) + reg.intercept_\n",
    "    print(np.sum((test['Y'].to_numpy()-res)**2))\n",
    "    if i == 3:\n",
    "        plt.plot(res)\n",
    "plt.plot((np.cumsum(a1)))\n",
    "    "
   ]
  },
  {
   "cell_type": "code",
   "execution_count": null,
   "id": "aaa36b94",
   "metadata": {},
   "outputs": [],
   "source": [
    "reg.coef_"
   ]
  },
  {
   "cell_type": "code",
   "execution_count": null,
   "id": "aaebfc5b",
   "metadata": {},
   "outputs": [],
   "source": [
    "reg.intercept_"
   ]
  },
  {
   "cell_type": "code",
   "execution_count": null,
   "id": "8c0355b1",
   "metadata": {},
   "outputs": [],
   "source": [
    "X = np.arange(1, 2000, 1)\n",
    "res = reg.coef_* np.log(X) + reg.intercept_"
   ]
  },
  {
   "cell_type": "code",
   "execution_count": null,
   "id": "72a95b25",
   "metadata": {},
   "outputs": [],
   "source": [
    "plt.plot(res)"
   ]
  },
  {
   "cell_type": "code",
   "execution_count": null,
   "id": "f80533c8",
   "metadata": {},
   "outputs": [],
   "source": [
    "dic = pd.read_csv('D:\\DDPronin\\PyCharm\\RU Classic Literature graphs\\data\\LEMMY_FREQ.csv')"
   ]
  },
  {
   "cell_type": "code",
   "execution_count": null,
   "id": "ecefdda7",
   "metadata": {},
   "outputs": [],
   "source": [
    "list(dic['WORD']).index('нога')"
   ]
  },
  {
   "cell_type": "code",
   "execution_count": null,
   "id": "4849f917",
   "metadata": {},
   "outputs": [],
   "source": [
    "from navec import Navec\n",
    "from slovnet import Syntax"
   ]
  },
  {
   "cell_type": "code",
   "execution_count": null,
   "id": "2ddfd209",
   "metadata": {},
   "outputs": [],
   "source": [
    "from slovnet import Morph"
   ]
  },
  {
   "cell_type": "code",
   "execution_count": null,
   "id": "564ab73d",
   "metadata": {},
   "outputs": [],
   "source": [
    "navec = Navec.load('models//navec_news_v1_1B_250K_300d_100q.tar')\n",
    "morph = Morph.load('models//slovnet_morph_news_v1.tar')\n",
    "morph.navec(navec);"
   ]
  },
  {
   "cell_type": "code",
   "execution_count": null,
   "id": "a7c30a7e",
   "metadata": {},
   "outputs": [],
   "source": [
    "next(morph.map('Привет, я дома!'))"
   ]
  },
  {
   "cell_type": "code",
   "execution_count": null,
   "id": "0411bc17",
   "metadata": {},
   "outputs": [],
   "source": [
    "text = 'По пустой дороге одиноко шел мальчик, держа в своих руках партфель, задумчиво и внимательно вглядываясь в опустевшую даль.'"
   ]
  },
  {
   "cell_type": "code",
   "execution_count": null,
   "id": "c197e994",
   "metadata": {},
   "outputs": [],
   "source": [
    "tokens = morph(text).tokens\n",
    "res = []\n",
    "for token in tokens:\n",
    "    res.append(token.pos)"
   ]
  },
  {
   "cell_type": "code",
   "execution_count": null,
   "id": "3343fede",
   "metadata": {},
   "outputs": [],
   "source": [
    "res"
   ]
  },
  {
   "cell_type": "code",
   "execution_count": null,
   "id": "5fb42931",
   "metadata": {},
   "outputs": [],
   "source": [
    "from navec import Navec\n",
    "from slovnet import Morph\n",
    "from razdel import tokenize\n",
    "navec = Navec.load('models//navec_news_v1_1B_250K_300d_100q.tar')\n",
    "morph = Morph.load('models//slovnet_morph_news_v1.tar')\n",
    "morph.navec(navec)\n",
    "\n",
    "def morphing(book):\n",
    "    tokens = morph([x.text for x in list(tokenize(book))]).tokens\n",
    "    res = []\n",
    "    for token in tokens:\n",
    "        res.append(token.pos)\n",
    "    len_ = len(book.split())\n",
    "    return {'ADJ' : res.count('ADJ')/len_, \n",
    "           'ADP' : res.count('ADP')/len_,\n",
    "           'ADV' : res.count('ADV')/len_,\n",
    "           'AUX' : res.count('AUX')/len_,\n",
    "           'CCONJ' : res.count('CCONJ')/len_,\n",
    "           'DET' : res.count('DET')/len_,\n",
    "           'INTJ' : res.count('INTJ')/len_,\n",
    "           'NUM' : res.count('NUM')/len_,\n",
    "           'NOUN' : res.count('NOUN')/len_,\n",
    "           'NUM' : res.count('NUM')/len_,\n",
    "           'PART' : res.count('PART')/len_,\n",
    "           'PRON' : res.count('PRON')/len_,\n",
    "           'PROPN' : res.count('PROPN')/len_,\n",
    "           'PUNCT' : res.count('PUNCT')/len_,\n",
    "           'SCONJ' : res.count('SCONJ')/len_,\n",
    "           'PUNCT' : res.count('PUNCT')/len_,\n",
    "           'SYM' : res.count('SYM')/len_,\n",
    "           'VERB' : res.count('VERB')/len_,\n",
    "           'X' : res.count('X')/len_}"
   ]
  },
  {
   "cell_type": "code",
   "execution_count": null,
   "id": "4a51186c",
   "metadata": {
    "scrolled": true
   },
   "outputs": [],
   "source": [
    "morphing(text)"
   ]
  },
  {
   "cell_type": "code",
   "execution_count": 1,
   "id": "13a53407",
   "metadata": {},
   "outputs": [],
   "source": [
    "from Lensky import *"
   ]
  },
  {
   "cell_type": "code",
   "execution_count": 4,
   "id": "7e1cc1c2",
   "metadata": {
    "scrolled": true
   },
   "outputs": [
    {
     "name": "stdout",
     "output_type": "stream",
     "text": [
      "Loading...\n"
     ]
    },
    {
     "name": "stderr",
     "output_type": "stream",
     "text": [
      "100%|████████████████████████████████████████████████████████████████████████████████████| 3/3 [00:00<00:00, 64.63it/s]"
     ]
    },
    {
     "name": "stdout",
     "output_type": "stream",
     "text": [
      "Done!\n"
     ]
    },
    {
     "name": "stderr",
     "output_type": "stream",
     "text": [
      "\n"
     ]
    }
   ],
   "source": [
    "corp = Corpus('D:\\\\DDPronin\\\\PyCharm\\\\RU Classic Literature graphs\\\\data\\\\test')"
   ]
  },
  {
   "cell_type": "code",
   "execution_count": 5,
   "id": "78dcf607",
   "metadata": {},
   "outputs": [],
   "source": [
    "from sklearn.feature_extraction.text import TfidfVectorizer\n",
    "tfidf = TfidfVectorizer()"
   ]
  },
  {
   "cell_type": "code",
   "execution_count": 6,
   "id": "5189485d",
   "metadata": {},
   "outputs": [
    {
     "name": "stdout",
     "output_type": "stream",
     "text": [
      "Tokenizing...\n"
     ]
    },
    {
     "name": "stderr",
     "output_type": "stream",
     "text": [
      "100%|████████████████████████████████████████████████████████████████████████████████████| 3/3 [00:02<00:00,  1.21it/s]"
     ]
    },
    {
     "name": "stdout",
     "output_type": "stream",
     "text": [
      "Done!\n"
     ]
    },
    {
     "name": "stderr",
     "output_type": "stream",
     "text": [
      "\n"
     ]
    }
   ],
   "source": [
    "corp.tokenize(replace=True)"
   ]
  },
  {
   "cell_type": "code",
   "execution_count": 7,
   "id": "c5f46e24",
   "metadata": {},
   "outputs": [
    {
     "name": "stdout",
     "output_type": "stream",
     "text": [
      "Normalizing...\n"
     ]
    },
    {
     "name": "stderr",
     "output_type": "stream",
     "text": [
      "100%|████████████████████████████████████████████████████████████████████████████████████| 3/3 [00:19<00:00,  6.46s/it]"
     ]
    },
    {
     "name": "stdout",
     "output_type": "stream",
     "text": [
      "Done!\n"
     ]
    },
    {
     "name": "stderr",
     "output_type": "stream",
     "text": [
      "\n"
     ]
    }
   ],
   "source": [
    "corp.normalize(replace=True)"
   ]
  },
  {
   "cell_type": "code",
   "execution_count": null,
   "id": "d139dea4",
   "metadata": {},
   "outputs": [],
   "source": [
    "corp.get([1, 1])"
   ]
  },
  {
   "cell_type": "code",
   "execution_count": 8,
   "id": "a87b8afa",
   "metadata": {},
   "outputs": [
    {
     "name": "stdout",
     "output_type": "stream",
     "text": [
      "Processing...\n"
     ]
    },
    {
     "name": "stderr",
     "output_type": "stream",
     "text": [
      "100%|████████████████████████████████████████████████████████████████████████████████████| 3/3 [00:00<00:00, 81.72it/s]\n"
     ]
    }
   ],
   "source": [
    "corp.low_pop_drop(lim=0.01, replace=True)"
   ]
  },
  {
   "cell_type": "code",
   "execution_count": 10,
   "id": "394d42de",
   "metadata": {},
   "outputs": [
    {
     "name": "stderr",
     "output_type": "stream",
     "text": [
      "100%|███████████████████████████████████████████████████████████████████████████████████| 3/3 [00:00<00:00, 156.96it/s]\n"
     ]
    }
   ],
   "source": [
    "res = corp.vectorize(tfidf)"
   ]
  },
  {
   "cell_type": "code",
   "execution_count": 11,
   "id": "24ec6024",
   "metadata": {},
   "outputs": [
    {
     "data": {
      "text/plain": [
       "[<Lensky.Vector at 0x2c0aa1004f0>,\n",
       " <Lensky.Vector at 0x2c0a8aafb80>,\n",
       " <Lensky.Vector at 0x2c0a8aaff70>,\n",
       " <Lensky.Vector at 0x2c0a8aafc10>,\n",
       " <Lensky.Vector at 0x2c0a8aafee0>,\n",
       " <Lensky.Vector at 0x2c0a8aafd60>]"
      ]
     },
     "execution_count": 11,
     "metadata": {},
     "output_type": "execute_result"
    }
   ],
   "source": [
    "res.get_subvalues()"
   ]
  },
  {
   "cell_type": "code",
   "execution_count": 12,
   "id": "cbfce5e0",
   "metadata": {},
   "outputs": [
    {
     "name": "stdout",
     "output_type": "stream",
     "text": [
      "Model fitting...\n"
     ]
    },
    {
     "name": "stderr",
     "output_type": "stream",
     "text": [
      "100%|████████████████████████████████████████████████████████████████████████████████████████████| 3/3 [00:00<?, ?it/s]\n",
      "C:\\Users\\User\\AppData\\Roaming\\Python\\Python39\\site-packages\\umap\\umap_.py:2344: UserWarning: n_neighbors is larger than the dataset size; truncating to X.shape[0] - 1\n",
      "  warn(\n"
     ]
    },
    {
     "name": "stdout",
     "output_type": "stream",
     "text": [
      "Done!\n"
     ]
    }
   ],
   "source": [
    "import umap\n",
    "\n",
    "mapper = umap.UMAP()\n",
    "model_fit(res, mapper)"
   ]
  },
  {
   "cell_type": "code",
   "execution_count": 109,
   "id": "27e3e6b1",
   "metadata": {},
   "outputs": [
    {
     "name": "stdout",
     "output_type": "stream",
     "text": [
      "Corpus processing...\n"
     ]
    },
    {
     "name": "stderr",
     "output_type": "stream",
     "text": [
      "100%|████████████████████████████████████████████████████████████████████████████████████████████| 3/3 [00:00<?, ?it/s]\n",
      "3it [00:00, 163.38it/s]"
     ]
    },
    {
     "name": "stdout",
     "output_type": "stream",
     "text": [
      "Done!\n"
     ]
    },
    {
     "name": "stderr",
     "output_type": "stream",
     "text": [
      "\n"
     ]
    },
    {
     "data": {
      "image/png": "[encoded data removed]",
      "text/plain": [
       "<Figure size 750x750 with 1 Axes>"
      ]
     },
     "metadata": {},
     "output_type": "display_data"
    }
   ],
   "source": [
    "plot_by_keys(res, mapper, figsize=(5, 5))"
   ]
  },
  {
   "cell_type": "code",
   "execution_count": 112,
   "id": "3228ad04",
   "metadata": {},
   "outputs": [
    {
     "name": "stdout",
     "output_type": "stream",
     "text": [
      "Corpus processing...\n"
     ]
    },
    {
     "name": "stderr",
     "output_type": "stream",
     "text": [
      "100%|████████████████████████████████████████████████████████████████████████████████████████████| 3/3 [00:00<?, ?it/s]\n"
     ]
    },
    {
     "name": "stdout",
     "output_type": "stream",
     "text": [
      "Done!\n",
      "Target values processing...\n"
     ]
    },
    {
     "name": "stderr",
     "output_type": "stream",
     "text": [
      "2it [00:00, 195.02it/s]"
     ]
    },
    {
     "name": "stdout",
     "output_type": "stream",
     "text": [
      "Done!\n"
     ]
    },
    {
     "name": "stderr",
     "output_type": "stream",
     "text": [
      "\n"
     ]
    },
    {
     "data": {
      "image/png": "[encoded data removed]",
      "text/plain": [
       "<Figure size 750x750 with 1 Axes>"
      ]
     },
     "metadata": {},
     "output_type": "display_data"
    }
   ],
   "source": [
    "plot_by_subkeys(res, 'Авдеев', mapper, figsize=(5, 5))"
   ]
  },
  {
   "cell_type": "code",
   "execution_count": 30,
   "id": "c2b7f69a",
   "metadata": {},
   "outputs": [
    {
     "data": {
      "text/plain": [
       "array(['они', 'он', 'это', 'ты', 'свой', 'мы', 'мой', 'мать', 'не',\n",
       "       'быть', 'на', 'что', 'вы', 'она', 'как'], dtype=object)"
      ]
     },
     "execution_count": 30,
     "metadata": {},
     "output_type": "execute_result"
    }
   ],
   "source": [
    "vdif(res.get([0, 0]), res.get([0, 1])).get_principal_words(100)"
   ]
  },
  {
   "cell_type": "code",
   "execution_count": 95,
   "id": "a89ef725",
   "metadata": {},
   "outputs": [],
   "source": [
    "from sklearn.neighbors import NearestNeighbors\n",
    "def nearest_neighbours(corpus, target, n, model=False):\n",
    "    neigh = NearestNeighbors(n_neighbors=n+1)\n",
    "    vecs = []\n",
    "    for author in tqdm.tqdm(corpus.get_keys()):\n",
    "        for book in list(corpus[author].keys()):\n",
    "            vecs.append(corpus[author][book].vector)\n",
    "    if model == False:\n",
    "        neigh.fit(vecs)\n",
    "        nearest_id = neigh.kneighbors([res.get_subvalues()[res.get_subkeys().index(target)].vector])[1]\n",
    "        return np.array(res.get_subkeys())[nearest_id][0][1:]\n",
    "    if model != False:\n",
    "        vecs = model.transform(vecs)                \n",
    "        neigh.fit(vecs)\n",
    "        nearest_id = neigh.kneighbors(model.transform([res.get_subvalues()[res.get_subkeys().index(target)].vector]))[1]\n",
    "        return np.array(res.get_subkeys())[nearest_id][0][1:]"
   ]
  },
  {
   "cell_type": "code",
   "execution_count": 40,
   "id": "ed10f520",
   "metadata": {},
   "outputs": [
    {
     "data": {
      "text/plain": [
       "['Авдеев.Иванов.1852',\n",
       " 'Авдеев.Тетрадь_из_записок_Тамарина.1852',\n",
       " 'Авенариус.Поветрие.1867',\n",
       " 'Авенариус.Современная_идиллия.1867',\n",
       " 'Аксаков.Детские_годы_Багрова-внука.1858',\n",
       " 'Аксаков.Семейная_хроника.1856']"
      ]
     },
     "execution_count": 40,
     "metadata": {},
     "output_type": "execute_result"
    }
   ],
   "source": [
    "res.get_subkeys()"
   ]
  },
  {
   "cell_type": "code",
   "execution_count": 41,
   "id": "f1c17e5a",
   "metadata": {},
   "outputs": [
    {
     "data": {
      "text/plain": [
       "[<Lensky.Vector at 0x2c0aa1004f0>,\n",
       " <Lensky.Vector at 0x2c0a8aafb80>,\n",
       " <Lensky.Vector at 0x2c0a8aaff70>,\n",
       " <Lensky.Vector at 0x2c0a8aafc10>,\n",
       " <Lensky.Vector at 0x2c0a8aafee0>,\n",
       " <Lensky.Vector at 0x2c0a8aafd60>]"
      ]
     },
     "execution_count": 41,
     "metadata": {},
     "output_type": "execute_result"
    }
   ],
   "source": [
    "res.get_subvalues()"
   ]
  },
  {
   "cell_type": "code",
   "execution_count": 43,
   "id": "f8159b70",
   "metadata": {},
   "outputs": [
    {
     "data": {
      "text/plain": [
       "array([0.34543336, 0.29762214, 0.        , 0.        , 0.        ,\n",
       "       0.        , 0.22858257, 0.35076921, 0.50581745, 0.30918145,\n",
       "       0.32625816, 0.        , 0.        , 0.27315748, 0.29035146])"
      ]
     },
     "execution_count": 43,
     "metadata": {},
     "output_type": "execute_result"
    }
   ],
   "source": [
    "res.get_subvalues()[res.get_subkeys().index('Авдеев.Иванов.1852')].vector"
   ]
  },
  {
   "cell_type": "code",
   "execution_count": 101,
   "id": "1daedd5c",
   "metadata": {},
   "outputs": [
    {
     "name": "stderr",
     "output_type": "stream",
     "text": [
      "100%|████████████████████████████████████████████████████████████████████████████████████████████| 3/3 [00:00<?, ?it/s]"
     ]
    },
    {
     "name": "stdout",
     "output_type": "stream",
     "text": [
      "['Авенариус.Поветрие.1867' 'Авдеев.Иванов.1852'\n",
      " 'Авенариус.Современная_идиллия.1867']\n"
     ]
    },
    {
     "name": "stderr",
     "output_type": "stream",
     "text": [
      "\n"
     ]
    }
   ],
   "source": [
    "nearest_neighbours(res, target='Авдеев.Тетрадь_из_записок_Тамарина.1852', n=3)"
   ]
  },
  {
   "cell_type": "code",
   "execution_count": 105,
   "id": "6590fac2",
   "metadata": {},
   "outputs": [
    {
     "name": "stderr",
     "output_type": "stream",
     "text": [
      "100%|█████████████████████████████████████████████████████████████████████████████████| 3/3 [00:00<00:00, 15401.36it/s]\n"
     ]
    },
    {
     "name": "stdout",
     "output_type": "stream",
     "text": [
      "['Авенариус.Поветрие.1867' 'Аксаков.Семейная_хроника.1856'\n",
      " 'Авдеев.Тетрадь_из_записок_Тамарина.1852']\n"
     ]
    }
   ],
   "source": [
    "nearest_neighbours(res, target='Авдеев.Иванов.1852', n=3, model=mapper)"
   ]
  }
 ],
 "metadata": {
  "kernelspec": {
   "display_name": "Python 3 (ipykernel)",
   "language": "python",
   "name": "python3"
  },
  "language_info": {
   "codemirror_mode": {
    "name": "ipython",
    "version": 3
   },
   "file_extension": ".py",
   "mimetype": "text/x-python",
   "name": "python",
   "nbconvert_exporter": "python",
   "pygments_lexer": "ipython3",
   "version": "3.9.13"
  }
 },
 "nbformat": 4,
 "nbformat_minor": 5
}
